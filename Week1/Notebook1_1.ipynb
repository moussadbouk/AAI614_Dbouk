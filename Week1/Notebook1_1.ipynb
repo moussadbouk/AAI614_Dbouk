{
  "cells": [
    {
      "cell_type": "markdown",
      "metadata": {
        "id": "GI9Z2Rr9-yTT"
      },
      "source": [
        "\n",
        "# AAI614: Data Science & its Applications\n",
        "\n",
        "*Notebook 1.1: Data Visualization Libraries*\n",
        "\n",
        "<a href=\"https://colab.research.google.com/github/harmanani/AAI614/blob/main/Week%201/Notebook1.1.ipynb\" target=\"_parent\"><img src=\"https://colab.research.google.com/assets/colab-badge.svg\" alt=\"Open In Colab\"/></a>\n",
        "\n",
        "*This notebook contains an excerpt from the [Python Data Science Handbook](http://shop.oreilly.com/product/0636920034919.do) by Jake VanderPlas; *\n",
        "\n",
        "*The text is released under the [CC-BY-NC-ND license](https://creativecommons.org/licenses/by-nc-nd/3.0/us/legalcode), and code is released under the [MIT license](https://opensource.org/licenses/MIT). If you find this content useful, please consider supporting the work by [buying the book](http://shop.oreilly.com/product/0636920034919.do)!*"
      ]
    },
    {
      "cell_type": "markdown",
      "metadata": {
        "id": "5mR6d9f1-yTV"
      },
      "source": [
        "## Seaborn Versus Matplotlib\n",
        "\n",
        "Here is an example of a simple random-walk plot in Matplotlib, using its classic plot formatting and colors.\n",
        "We start with the typical imports:"
      ]
    },
    {
      "cell_type": "code",
      "execution_count": null,
      "metadata": {
        "collapsed": true,
        "id": "yV1-LH3N-yTV"
      },
      "outputs": [],
      "source": [
        "import matplotlib.pyplot as plt\n",
        "plt.style.use('classic')\n",
        "%matplotlib inline\n",
        "import numpy as np\n",
        "import pandas as pd"
      ]
    },
    {
      "cell_type": "markdown",
      "metadata": {
        "id": "jUYpNTWP-yTV"
      },
      "source": [
        "Now we create some random walk data:"
      ]
    },
    {
      "cell_type": "code",
      "execution_count": null,
      "metadata": {
        "collapsed": true,
        "id": "FB4p_YPv-yTV"
      },
      "outputs": [],
      "source": [
        "# Create some data\n",
        "rng = np.random.RandomState(0)\n",
        "x = np.linspace(0, 10, 500)\n",
        "y = np.cumsum(rng.randn(500, 6), 0)"
      ]
    },
    {
      "cell_type": "markdown",
      "metadata": {
        "id": "dppxB7hT-yTV"
      },
      "source": [
        "And do a simple plot:"
      ]
    },
    {
      "cell_type": "code",
      "execution_count": null,
      "metadata": {
        "id": "2D-vXP-b-yTV"
      },
      "outputs": [],
      "source": [
        "# Plot the data with Matplotlib defaults\n",
        "plt.plot(x, y)\n",
        "plt.legend('ABCDEF', ncol=2, loc='upper left');"
      ]
    },
    {
      "cell_type": "markdown",
      "metadata": {
        "id": "y7Ymzuhz-yTV"
      },
      "source": [
        "Although the result contains all the information we'd like it to convey, it does so in a way that is not all that aesthetically pleasing, and even looks a bit old-fashioned in the context of 21st-century data visualization.\n",
        "\n",
        "Now let's take a look at how it works with Seaborn.\n",
        "As we will see, Seaborn has many of its own high-level plotting routines, but it can also overwrite Matplotlib's default parameters and in turn get even simple Matplotlib scripts to produce vastly superior output.\n",
        "We can set the style by calling Seaborn's ``set()`` method.\n",
        "By convention, Seaborn is imported as ``sns``:"
      ]
    },
    {
      "cell_type": "code",
      "execution_count": null,
      "metadata": {
        "id": "NSlwg-GT-yTW"
      },
      "outputs": [],
      "source": [
        "import seaborn as sns\n",
        "sns.set()"
      ]
    },
    {
      "cell_type": "markdown",
      "metadata": {
        "id": "GteR5j4d-yTW"
      },
      "source": [
        "Now let's rerun the same two lines as before:"
      ]
    },
    {
      "cell_type": "code",
      "execution_count": null,
      "metadata": {
        "id": "mht72-L3-yTW"
      },
      "outputs": [],
      "source": [
        "# same plotting code as above!\n",
        "plt.plot(x, y)\n",
        "plt.legend('ABCDEF', ncol=2, loc='upper left');"
      ]
    },
    {
      "cell_type": "markdown",
      "metadata": {
        "id": "7OhsmdIj-yTW"
      },
      "source": [
        "Ah, much better!"
      ]
    },
    {
      "cell_type": "markdown",
      "metadata": {
        "id": "KUJ1IOJR-yTW"
      },
      "source": [
        "## Exploring Seaborn Plots\n",
        "\n",
        "The main idea of Seaborn is that it provides high-level commands to create a variety of plot types useful for statistical data exploration, and even some statistical model fitting.\n",
        "\n",
        "Let's take a look at a few of the datasets and plot types available in Seaborn. Note that all of the following *could* be done using raw Matplotlib commands (this is, in fact, what Seaborn does under the hood) but the Seaborn API is much more convenient."
      ]
    },
    {
      "cell_type": "markdown",
      "metadata": {
        "id": "6VFX7QoX-yTW"
      },
      "source": [
        "### Histograms, KDE, and densities\n",
        "\n",
        "Often in statistical data visualization, all you want is to plot histograms and joint distributions of variables.\n",
        "We have seen that this is relatively straightforward in Matplotlib:"
      ]
    },
    {
      "cell_type": "code",
      "execution_count": null,
      "metadata": {
        "id": "PU0IeNdK-yTW"
      },
      "outputs": [],
      "source": [
        "data = np.random.multivariate_normal([0, 0], [[5, 2], [2, 2]], size=2000)\n",
        "data = pd.DataFrame(data, columns=['x', 'y'])\n",
        "\n",
        "for col in 'xy':\n",
        "    plt.hist(data[col], density=True, alpha=0.5)"
      ]
    },
    {
      "cell_type": "markdown",
      "metadata": {
        "id": "2UDdHmnX-yTW"
      },
      "source": [
        "Rather than a histogram, we can get a smooth estimate of the distribution using a kernel density estimation, which Seaborn does with ``sns.kdeplot``:"
      ]
    },
    {
      "cell_type": "code",
      "execution_count": null,
      "metadata": {
        "id": "e_9kMETJ-yTW"
      },
      "outputs": [],
      "source": [
        "for col in 'xy':\n",
        "    sns.kdeplot(data[col], fill=True)"
      ]
    },
    {
      "cell_type": "markdown",
      "metadata": {
        "id": "2LPjl8Wg-yTW"
      },
      "source": [
        "Histograms and KDE can be combined using ``displot``:"
      ]
    },
    {
      "cell_type": "code",
      "execution_count": null,
      "metadata": {
        "id": "KqRJlw-J-yTW"
      },
      "outputs": [],
      "source": [
        "sns.displot(data['x'])\n",
        "sns.displot(data['y']);"
      ]
    },
    {
      "cell_type": "markdown",
      "metadata": {
        "id": "Q0WKU0O9-yTW"
      },
      "source": [
        "If we pass the full two-dimensional dataset to ``kdeplot``, we will get a two-dimensional visualization of the data:"
      ]
    },
    {
      "cell_type": "code",
      "execution_count": null,
      "metadata": {
        "id": "emCgethy-yTW"
      },
      "outputs": [],
      "source": [
        "sns.kdeplot(data);"
      ]
    },
    {
      "cell_type": "markdown",
      "metadata": {
        "id": "2On3NudR-yTW"
      },
      "source": [
        "There are other parameters that can be passed to ``jointplot``—for example, we can use a hexagonally based histogram instead:"
      ]
    },
    {
      "cell_type": "code",
      "execution_count": null,
      "metadata": {
        "id": "0lm0Fqkj-yTW"
      },
      "outputs": [],
      "source": [
        "with sns.axes_style('white'):\n",
        "    sns.jointplot(data=data, x=\"x\", y=\"y\", kind='hex')"
      ]
    },
    {
      "cell_type": "markdown",
      "metadata": {
        "id": "HAnS-RWw-yTW"
      },
      "source": [
        "### Pair plots\n",
        "\n",
        "When you generalize joint plots to datasets of larger dimensions, you end up with *pair plots*. This is very useful for exploring correlations between multidimensional data, when you'd like to plot all pairs of values against each other.\n",
        "\n",
        "We'll demo this with the well-known Iris dataset, which lists measurements of petals and sepals of three iris species:"
      ]
    },
    {
      "cell_type": "code",
      "execution_count": null,
      "metadata": {
        "id": "GOq6yOaR-yTW"
      },
      "outputs": [],
      "source": [
        "import ssl\n",
        "\n",
        "ssl._create_default_https_context = ssl._create_unverified_context\n",
        "\n",
        "iris = sns.load_dataset(\"iris\")\n",
        "iris.head()"
      ]
    },
    {
      "cell_type": "markdown",
      "metadata": {
        "id": "AubuHAdA-yTW"
      },
      "source": [
        "Visualizing the multidimensional relationships among the samples is as easy as calling ``sns.pairplot``:"
      ]
    },
    {
      "cell_type": "code",
      "execution_count": null,
      "metadata": {
        "id": "y4g0_Kfv-yTW"
      },
      "outputs": [],
      "source": [
        "sns.pairplot(iris, hue='species', height=2.5);"
      ]
    },
    {
      "cell_type": "markdown",
      "metadata": {
        "id": "qWiBbgqU-yTX"
      },
      "source": [
        "### Faceted histograms\n",
        "\n",
        "Sometimes the best way to view data is via histograms of subsets. Seaborn's ``FacetGrid`` makes this extremely simple.\n",
        "We'll take a look at some data that shows the amount that restaurant staff receive in tips based on various indicator data:"
      ]
    },
    {
      "cell_type": "code",
      "execution_count": null,
      "metadata": {
        "id": "0m1wqY5j-yTX"
      },
      "outputs": [],
      "source": [
        "tips = sns.load_dataset('tips')\n",
        "tips.head()"
      ]
    },
    {
      "cell_type": "code",
      "execution_count": null,
      "metadata": {
        "id": "4EZY0LKs-yTX"
      },
      "outputs": [],
      "source": [
        "tips['tip_pct'] = 100 * tips['tip'] / tips['total_bill']\n",
        "\n",
        "grid = sns.FacetGrid(tips, row=\"sex\", col=\"time\", margin_titles=True)\n",
        "grid.map(plt.hist, \"tip_pct\", bins=np.linspace(0, 40, 15));"
      ]
    },
    {
      "cell_type": "markdown",
      "metadata": {
        "id": "WmriCRIl-yTX"
      },
      "source": [
        "### Cat plots\n",
        "\n",
        "Cat plots can be useful for this kind of visualization as well. This allows you to view the distribution of a parameter within bins defined by any other parameter:"
      ]
    },
    {
      "cell_type": "code",
      "execution_count": null,
      "metadata": {
        "id": "e1UK0HCF-yTX"
      },
      "outputs": [],
      "source": []
    },
    {
      "cell_type": "code",
      "execution_count": null,
      "metadata": {
        "id": "ABDJOx8L-yTX"
      },
      "outputs": [],
      "source": [
        "with sns.axes_style(style='ticks'):\n",
        "    g = sns.catplot(x=\"day\", y=\"total_bill\", hue=\"sex\", data=tips, kind=\"box\")\n",
        "    g.set_axis_labels(\"Day\", \"Total Bill\");"
      ]
    },
    {
      "cell_type": "markdown",
      "metadata": {
        "id": "cxaPoVBL-yTX"
      },
      "source": [
        "### Bar plots\n",
        "\n",
        "Time series can be plotted using ``sns.catplot``. In the following example, we'll use the Planets data that we first saw in [Aggregation and Grouping](03.08-Aggregation-and-Grouping.ipynb):"
      ]
    },
    {
      "cell_type": "code",
      "execution_count": null,
      "metadata": {
        "id": "gnsNuIcp-yTX"
      },
      "outputs": [],
      "source": [
        "planets = sns.load_dataset('planets')\n",
        "planets.head()"
      ]
    },
    {
      "cell_type": "code",
      "execution_count": null,
      "metadata": {
        "id": "eWv78xNX-yTX"
      },
      "outputs": [],
      "source": [
        "with sns.axes_style('white'):\n",
        "    g = sns.catplot(x=\"year\", data=planets, aspect=2, kind=\"count\", color='steelblue')\n",
        "    g.set_xticklabels(step=5)"
      ]
    },
    {
      "cell_type": "markdown",
      "metadata": {
        "id": "hU-D3kgW-yTX"
      },
      "source": [
        "We can learn more by looking at the *method* of discovery of each of these planets:"
      ]
    },
    {
      "cell_type": "code",
      "execution_count": null,
      "metadata": {
        "id": "bNHIU2bV-yTX"
      },
      "outputs": [],
      "source": [
        "with sns.axes_style('white'):\n",
        "    g = sns.catplot(x=\"year\", data=planets, aspect=4.0, kind=\"count\", hue=\"method\", order=range(2001, 2015))\n",
        "    g.set_ylabels('Number of Planets Discovered')"
      ]
    },
    {
      "cell_type": "markdown",
      "metadata": {
        "id": "EB9uurHU-yTX"
      },
      "source": [
        "# Experiment with Folium"
      ]
    },
    {
      "cell_type": "code",
      "execution_count": null,
      "metadata": {
        "id": "_rP3Sh5P-yTc"
      },
      "outputs": [],
      "source": [
        "import folium\n",
        "\n",
        "#Lebanon\n",
        "Lebanon = folium.Map(location=(33.8735578, 35.863749))"
      ]
    },
    {
      "cell_type": "code",
      "execution_count": null,
      "metadata": {
        "id": "RhVs99II-yTd"
      },
      "outputs": [],
      "source": [
        "Lebanon"
      ]
    },
    {
      "cell_type": "code",
      "execution_count": null,
      "metadata": {
        "id": "HtjPmXBj-yTd"
      },
      "outputs": [],
      "source": [
        "Lebanon.save(\"index.html\")"
      ]
    },
    {
      "cell_type": "markdown",
      "metadata": {
        "id": "QD5t7YAn-yTd"
      },
      "source": [
        "## Changing The tileset\n",
        "\n"
      ]
    },
    {
      "cell_type": "markdown",
      "metadata": {
        "id": "W2U3yl1M-yTd"
      },
      "source": [
        "The default tiles are set to OpenStreetMap, but a selection of tilesets are also built in.\n"
      ]
    },
    {
      "cell_type": "code",
      "execution_count": null,
      "metadata": {
        "id": "a8PywSrk-yTd"
      },
      "outputs": [],
      "source": [
        "folium.Map((33.8735578, 35.863749), tiles=\"cartodb positron\")\n"
      ]
    },
    {
      "cell_type": "markdown",
      "metadata": {
        "id": "6w4Z8xkY-yTd"
      },
      "source": [
        "## Adding markers"
      ]
    },
    {
      "cell_type": "code",
      "execution_count": null,
      "metadata": {
        "id": "4Gn-Eic5-yTd"
      },
      "outputs": [],
      "source": [
        "m = folium.Map([33.8735578, 35.863749], zoom_start=10)\n",
        "\n",
        "folium.Marker(\n",
        "    location=[33.89305,35.47785],\n",
        "    tooltip=\"LAU\",\n",
        "    popup=\"Lebanese American University\",\n",
        "    icon=folium.Icon(icon=\"cloud\"),\n",
        ").add_to(m)\n",
        "\n",
        "folium.Marker(\n",
        "    location=[34.11706,35.67413],\n",
        "    tooltip=\"LAU\",\n",
        "    popup=\"Lebanese American University\",\n",
        "    icon=folium.Icon(color=\"green\"),\n",
        ").add_to(m)\n",
        "\n",
        "m"
      ]
    },
    {
      "cell_type": "markdown",
      "metadata": {
        "id": "-l2Vh9f7-yTd"
      },
      "source": [
        "## GeoJSON/TopoJSON overlays"
      ]
    },
    {
      "cell_type": "markdown",
      "metadata": {
        "id": "mPNbACie-yTd"
      },
      "source": [
        "Folium supports both GeoJSON and TopoJSON data in various formats, such as urls, file paths and dictionaries."
      ]
    },
    {
      "cell_type": "code",
      "execution_count": null,
      "metadata": {
        "id": "XiN_Q0RX-yTd"
      },
      "outputs": [],
      "source": [
        "import requests\n",
        "\n",
        "m = folium.Map(tiles=\"cartodbpositron\")\n",
        "\n",
        "geojson_data = requests.get(\n",
        "    \"https://raw.githubusercontent.com/python-visualization/folium-example-data/main/world_countries.json\"\n",
        ").json()\n",
        "\n",
        "folium.GeoJson(geojson_data, name=\"hello world\").add_to(m)\n",
        "\n",
        "folium.LayerControl().add_to(m)\n",
        "\n",
        "m"
      ]
    },
    {
      "cell_type": "markdown",
      "metadata": {
        "id": "IALvxEyp-yTd"
      },
      "source": [
        "## Choropleth maps"
      ]
    },
    {
      "cell_type": "markdown",
      "metadata": {
        "id": "CImDefS5-yTd"
      },
      "source": [
        "Choropleth can be created by binding the data between Pandas DataFrames/Series and Geo/TopoJSON geometries.\n"
      ]
    },
    {
      "cell_type": "code",
      "execution_count": null,
      "metadata": {
        "id": "0lfRUvhi-yTd"
      },
      "outputs": [],
      "source": [
        "import pandas\n",
        "import ssl\n",
        "ssl._create_default_https_context = ssl._create_unverified_context\n",
        "\n",
        "state_geo = requests.get(\n",
        "    \"https://raw.githubusercontent.com/python-visualization/folium-example-data/main/us_states.json\"\n",
        ").json()\n",
        "state_data = pandas.read_csv(\n",
        "    \"https://raw.githubusercontent.com/python-visualization/folium-example-data/main/us_unemployment_oct_2012.csv\"\n",
        ")\n",
        "\n",
        "m = folium.Map(location=[48, -102], zoom_start=3)\n",
        "\n",
        "folium.Choropleth(\n",
        "    geo_data=state_geo,\n",
        "    name=\"choropleth\",\n",
        "    data=state_data,\n",
        "    columns=[\"State\", \"Unemployment\"],\n",
        "    key_on=\"feature.id\",\n",
        "    fill_color=\"YlGn\",\n",
        "    fill_opacity=0.7,\n",
        "    line_opacity=0.2,\n",
        "    legend_name=\"Unemployment Rate (%)\",\n",
        ").add_to(m)\n",
        "\n",
        "folium.LayerControl().add_to(m)\n",
        "\n",
        "m"
      ]
    },
    {
      "cell_type": "markdown",
      "metadata": {
        "id": "zbkmX1fx-yTd"
      },
      "source": []
    }
  ],
  "metadata": {
    "anaconda-cloud": {},
    "kernelspec": {
      "display_name": "Python 3",
      "language": "python",
      "name": "python3"
    },
    "language_info": {
      "codemirror_mode": {
        "name": "ipython",
        "version": 3
      },
      "file_extension": ".py",
      "mimetype": "text/x-python",
      "name": "python",
      "nbconvert_exporter": "python",
      "pygments_lexer": "ipython3",
      "version": "3.10.11"
    },
    "colab": {
      "provenance": []
    }
  },
  "nbformat": 4,
  "nbformat_minor": 0
}